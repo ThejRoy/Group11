{
 "cells": [
  {
   "cell_type": "code",
   "execution_count": null,
   "id": "22b7642b-798c-41dd-8833-d86f95f735d7",
   "metadata": {},
   "outputs": [],
   "source": [
    "#Prediction part\n",
    "def predict_subcategory_future_sales(data, sub_category, n_months):#goes into the prediction function\n",
    "    # Step 1: Filter and aggregate\n",
    "    df = data[data['Sub-Category'] == sub_category].copy()\n",
    "    df['Date'] = pd.to_datetime(df['Date'])\n",
    "    df = df.groupby(pd.Grouper(key='Date', freq='M')).agg({'Quantity': 'sum', 'Profit': 'sum'}).reset_index()\n",
    "    \n",
    "    # Step 2: Feature engineering\n",
    "    df['Month'] = df['Date'].dt.month\n",
    "    df['Year'] = df['Date'].dt.year\n",
    "    df['TimeIndex'] = range(len(df))\n",
    "    \n",
    "    # Step 3: Train on full data\n",
    "    X = df[['TimeIndex', 'Month', 'Year']]\n",
    "    y = df['Quantity']  \n",
    "                \n",
    "    model = RandomForestRegressor()\n",
    "    model.fit(X, y)\n",
    "    \n",
    "\n",
    "    last_date = df['Date'].max()\n",
    "    future_dates = [last_date + relativedelta(months=i+1) for i in range(n_months)]\n",
    "\n",
    "    future_df = pd.DataFrame({'Date': future_dates,'Month': [d.month for d in future_dates],'Year': [d.year for d in future_dates],'TimeIndex': [df['TimeIndex'].max() + i + 1 for i in range(n_months)]})\n",
    "\n",
    "    future_X = future_df[['TimeIndex', 'Month', 'Year']]\n",
    "\n",
    "                \n",
    "    future_df['Predicted Quantity'] = np.round(model.predict(future_X)).astype(int)\n",
    "    plt.figure(figsize=(12,6))\n",
    "    plt.plot(df['Date'], df['Quantity'], label='Historical Quantity')\n",
    "    plt.plot(future_df['Date'], future_df['Predicted Quantity'], label='Predicted Future Quantity', linestyle='--')\n",
    "    plt.legend()\n",
    "    plt.xlabel('Date')\n",
    "    plt.ylabel('Quantity')\n",
    "    plt.title(f'Future Sales Prediction for {sub_category}')\n",
    "    plt.grid(True)\n",
    "    plt.show()\n",
    "                \n",
    "\n",
    "    return future_df"
   ]
  }
 ],
 "metadata": {
  "kernelspec": {
   "display_name": "Python [conda env:base] *",
   "language": "python",
   "name": "conda-base-py"
  },
  "language_info": {
   "codemirror_mode": {
    "name": "ipython",
    "version": 3
   },
   "file_extension": ".py",
   "mimetype": "text/x-python",
   "name": "python",
   "nbconvert_exporter": "python",
   "pygments_lexer": "ipython3",
   "version": "3.12.7"
  }
 },
 "nbformat": 4,
 "nbformat_minor": 5
}

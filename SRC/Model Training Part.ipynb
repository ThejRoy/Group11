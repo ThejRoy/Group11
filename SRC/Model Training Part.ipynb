{
 "cells": [
  {
   "cell_type": "code",
   "execution_count": null,
   "id": "22b7642b-798c-41dd-8833-d86f95f735d7",
   "metadata": {},
   "outputs": [],
   "source": [
    "#Training Part\n",
    "# Prepare data\n",
    "data = udf.copy()\n",
    "data['Month'] = data['Date'].dt.to_period('M').astype(str)\n",
    "\n",
    "# Features and targets\n",
    "X = pd.get_dummies(data[['Sub-Category', 'Month','State','city','Gender']], drop_first=True)#One hot encoding of objects\n",
    "y_profit = data['Profit'] #sets profit as target\n",
    "y_quantity = data['Quantity'] #sets quantity as target\n",
    "\n",
    "# Train/test split(25% test and 75% train)\n",
    "X_train, X_test, y_profit_train, y_profit_test, y_quantity_train, y_quantity_test = train_test_split(\n",
    "    X, y_profit, y_quantity, test_size=0.25, random_state=42\n",
    ")\n",
    "\n",
    "# Train models using the RandomForestRegressor Model\n",
    "model_profit = RandomForestRegressor(random_state=42)\n",
    "model_quantity = RandomForestRegressor(random_state=42)\n",
    "\n",
    "model_profit.fit(X_train, y_profit_train)\n",
    "model_quantity.fit(X_train, y_quantity_train)\n",
    "\n",
    "# Predictions\n",
    "y_profit_pred = model_profit.predict(X_test)\n",
    "y_quantity_pred = model_quantity.predict(X_test)\n",
    "\n",
    "# Evaluation: gives us the accuracy and reliability of the model\n",
    "print(\"Profit Model - R2 Score:\", r2_score(y_profit_test, y_profit_pred))\n",
    "print(\"Profit Model - RMSE:\", np.sqrt(mean_squared_error(y_profit_test, y_profit_pred)))\n",
    "print(\"Quantity Model - R2 Score:\", r2_score(y_quantity_test, y_quantity_pred))\n",
    "print(\"Quantity Model - RMSE:\", np.sqrt(mean_squared_error(y_quantity_test, y_quantity_pred)))\n",
    "\n",
    "# Visualization\n",
    "plt.figure(figsize=(12,5))\n",
    "plt.subplot(1,2,1)\n",
    "plt.scatter(y_profit_test, y_profit_pred, alpha=0.5, color='blue')\n",
    "plt.xlabel(\"Actual Profit\")\n",
    "plt.ylabel(\"Predicted Profit\")\n",
    "plt.title(\"Profit: Actual vs Predicted\")\n",
    "\n",
    "plt.subplot(1,2,2)\n",
    "plt.scatter(y_quantity_test, y_quantity_pred, alpha=0.5, color='green')\n",
    "plt.xlabel(\"Actual Quantity\")\n",
    "plt.ylabel(\"Predicted Quantity\")\n",
    "plt.title(\"Quantity: Actual vs Predicted\")\n",
    "plt.tight_layout()\n",
    "plt.show()\n"
   ]
  }
 ],
 "metadata": {
  "kernelspec": {
   "display_name": "Python [conda env:base] *",
   "language": "python",
   "name": "conda-base-py"
  },
  "language_info": {
   "codemirror_mode": {
    "name": "ipython",
    "version": 3
   },
   "file_extension": ".py",
   "mimetype": "text/x-python",
   "name": "python",
   "nbconvert_exporter": "python",
   "pygments_lexer": "ipython3",
   "version": "3.12.7"
  }
 },
 "nbformat": 4,
 "nbformat_minor": 5
}

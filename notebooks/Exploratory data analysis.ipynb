{
 "cells": [
  {
   "cell_type": "code",
   "execution_count": null,
   "id": "22b7642b-798c-41dd-8833-d86f95f735d7",
   "metadata": {},
   "outputs": [],
   "source": [
    "#Exploratory Data Analysis\n",
    "#checking the dataframe\n",
    "udf.info()\n",
    "#checking for duplicates\n",
    "udf.isnull().sum()\n",
    "#checking for any garbage values\n",
    "for i in udf.select_dtypes(include='object').columns:\n",
    "    print(df[i].value_counts())\n",
    "    print(\"***\"*10)\n",
    "#EDA for objects\n",
    "for i in udf.select_dtypes(include='object').columns:\n",
    "    sns.histplot(data=udf,x=i)\n",
    "    plt.show()\n",
    "#EDA for profit and quantity\n",
    "for i in ['Profit','Quantity']:\n",
    "    sns.scatterplot(data=udf,x=i,y='Amount')\n",
    "    plt.show()\n",
    "#EDA for numbers\n",
    "for i in udf.select_dtypes(include='number').columns:\n",
    "    sns.histplot(data=udf,x=i)\n",
    "    plt.show()\n",
    "#boxplot for object to check for outliers\n",
    "for i in udf.select_dtypes(include='object').columns:\n",
    "    sns.boxplot(data=udf,x=i)\n",
    "    plt.show()\n",
    "#boxplot for numbers to check for outliers\n",
    "for i in udf.select_dtypes(include='number').columns:\n",
    "    sns.boxplot(data=udf,x=i)\n",
    "    plt.show()\n",
    "#OUTLIERS TREATMENT\n",
    "def limit(n):\n",
    "    q1,q3=np.percentile(n,[25,75])\n",
    "    iqr=q3-q1\n",
    "    ll=q1-(1.5*iqr)\n",
    "    ul=q3+(1.5*iqr)\n",
    "    return ll,ul\n",
    "for i in ['Amount','Profit','Quantity']:\n",
    "    ll,ul=limit(udf[i])\n",
    "    udf[i]=np.where(udf[i]<ll,ll,udf[i])#replaces the outliers lying below the lower limit with the lower limit value\n",
    "    udf[i]=np.where(udf[i]>ul,ul,udf[i])#replaces the outliers lying above the upper limit with te upper limit value\n",
    "#boxplot of numbers after outlier treatement\n",
    "for i in udf.select_dtypes(include='number').columns:\n",
    "    sns.boxplot(data=udf,x=i)\n",
    "    plt.show()"
   ]
  }
 ],
 "metadata": {
  "kernelspec": {
   "display_name": "Python [conda env:base] *",
   "language": "python",
   "name": "conda-base-py"
  },
  "language_info": {
   "codemirror_mode": {
    "name": "ipython",
    "version": 3
   },
   "file_extension": ".py",
   "mimetype": "text/x-python",
   "name": "python",
   "nbconvert_exporter": "python",
   "pygments_lexer": "ipython3",
   "version": "3.12.7"
  }
 },
 "nbformat": 4,
 "nbformat_minor": 5
}
